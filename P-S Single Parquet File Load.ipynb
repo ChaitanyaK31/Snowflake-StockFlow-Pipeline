{
 "cells": [
  {
   "cell_type": "code",
   "execution_count": 1,
   "id": "7c62613c-8188-473d-96b2-93a7970b7eb5",
   "metadata": {},
   "outputs": [],
   "source": [
    "import yfinance as yf\n",
    "import pandas as pd\n",
    "import snowflake.connector\n",
    "import os"
   ]
  },
  {
   "cell_type": "code",
   "execution_count": 2,
   "id": "f2dac672-2279-4168-bbc2-85c3ce005908",
   "metadata": {},
   "outputs": [],
   "source": [
    "# Connect snowflake to python\n",
    "conn = snowflake.connector.connect(\n",
    "    user = 'CHAITANYA35',\n",
    "    password = '',\n",
    "    account = '',\n",
    "    warehouse = 'COMPUTE_WH',\n",
    "    database = 'ISM',\n",
    "    schema = 'DATA'\n",
    ")\n",
    "\n",
    "cursor = conn.cursor()"
   ]
  },
  {
   "cell_type": "code",
   "execution_count": 3,
   "id": "d5f7aaa7-ad9e-4da3-b375-9c470de6ea7b",
   "metadata": {},
   "outputs": [],
   "source": [
    "def get_stock_data(stock_symbol):\n",
    "    \n",
    "    stock_name = stock_symbol.upper() + \".NS\"\n",
    "\n",
    "    try:\n",
    "        # create class for yf.\n",
    "        stock_data = yf.Ticker(stock_name)\n",
    "\n",
    "        # get all historical adjusted data for stock.\n",
    "        all_data = stock_data.history(period=\"max\", auto_adjust=True)\n",
    "\n",
    "        # if stock returns no data flag error.\n",
    "        if all_data.empty:\n",
    "            print(f\"No data found for {stock_name}\")\n",
    "            return pd.DataFrame()\n",
    "\n",
    "        # reset index to get date as date column.\n",
    "        all_data.reset_index(inplace= True)\n",
    "\n",
    "        # rename all columns as per snowflake tables.\n",
    "        all_data = all_data.rename(columns={\n",
    "            'Date' : 'price_date',\n",
    "            'Open' : 'open_price',\n",
    "            'High': 'high_price',\n",
    "            'Low': 'low_price',\n",
    "            'Close': 'close_price',\n",
    "            'Volume': 'volume'\n",
    "        })\n",
    "\n",
    "        # add stock_symbol column as well.\n",
    "        all_data['stock_symbol'] = stock_symbol.upper()\n",
    "        all_data['price_date'] = pd.to_datetime(all_data['price_date']).dt.strftime('%Y-%m-%d')\n",
    "\n",
    "        # reorder all columns.\n",
    "        all_data = all_data[['stock_symbol', 'price_date', 'open_price', 'high_price', 'low_price', 'close_price', 'volume']]\n",
    "\n",
    "        return all_data\n",
    "    \n",
    "    except Exception as e:\n",
    "        print(f\"Error fetching data for {stock_name}\")\n",
    "        return pd.DataFrame()\n"
   ]
  },
  {
   "cell_type": "code",
   "execution_count": 4,
   "id": "4e109f1b-4964-4483-b384-720301405ec8",
   "metadata": {},
   "outputs": [],
   "source": [
    "# def save_and_upload():\n",
    "#     # Truncate Table First.\n",
    "#     cursor.execute(\"Truncate table stock_prices_single_load\")\n",
    "\n",
    "#     # saving dataframe to parquet file\n",
    "#     parquet_file = 'temp_stock_data_single_load.parquet'\n",
    "#     df_all_stocks_data.to_parquet(parquet_file, index=False, engine='pyarrow')\n",
    "\n",
    "#     df_all_stocks_data['price_date'] = df_all_stocks_data['price_date'].astype(str)\n",
    "\n",
    "#     # absolute_path = os.path.abspath(parquet_file)\n",
    "#     absolute_path = \"D://Data_Engineering//temp_stock_data_single_load.parquet\"\n",
    "#     basename = os.path.basename(parquet_file)\n",
    "\n",
    "#     cursor.execute(\"CREATE STAGE IF NOT EXISTS stage_stock_prices_single_load\")\n",
    "#     cursor.execute(F\"PUT file://{absolute_path} @stage_stock_prices_single_load OVERWRITE=True\")\n",
    "\n",
    "#     cursor.execute(f\"\"\"\n",
    "#         COPY INTO stock_prices_single_load\n",
    "#         FROM @stage_stock_prices_single_load/{basename}\n",
    "#         FILE_FORMAT = (TYPE = 'PARQUET')\n",
    "#         MATCH_BY_COLUMN_NAME=CASE_INSENSITIVE\n",
    "#         \"\"\")\n",
    "    "
   ]
  },
  {
   "cell_type": "code",
   "execution_count": 5,
   "id": "cf4cabd4-995a-436a-88e3-3490b380e9af",
   "metadata": {},
   "outputs": [
    {
     "name": "stdout",
     "output_type": "stream",
     "text": [
      "stock_symbol    2279199\n",
      "price_date      2279199\n",
      "open_price      2279198\n",
      "high_price      2279198\n",
      "low_price       2279198\n",
      "close_price     2279198\n",
      "volume          2279199\n",
      "dtype: int64\n",
      "All data loaded successfully.\n"
     ]
    }
   ],
   "source": [
    "if __name__ == \"__main__\":\n",
    "    cursor.execute(\"select * from stock_symbol\")\n",
    "    \n",
    "    stock_list = [row[0] for row in cursor.fetchall()]\n",
    "\n",
    "    df_all_stocks_data = pd.DataFrame()\n",
    "\n",
    "    for stock in stock_list:\n",
    "        df = get_stock_data(stock)\n",
    "        if not df.empty:\n",
    "            df_all_stocks_data = pd.concat([df_all_stocks_data,df], ignore_index=True)  \n",
    "\n",
    "    # Check dataframe information\n",
    "    print(df_all_stocks_data.count()) \n",
    "\n",
    "    # Truncate Table First.\n",
    "    cursor.execute(\"Truncate table stock_prices_single_load\")\n",
    "\n",
    "    # saving dataframe to parquet file\n",
    "    parquet_file = 'temp_stock_data_single_load.parquet'\n",
    "    df_all_stocks_data.to_parquet(parquet_file, index=False, engine='pyarrow')\n",
    "\n",
    "    df_all_stocks_data['price_date'] = df_all_stocks_data['price_date'].astype(str)\n",
    "\n",
    "    # absolute_path = os.path.abspath(parquet_file)\n",
    "    absolute_path = \"D://Data_Engineering//temp_stock_data_single_load.parquet\"\n",
    "    basename = os.path.basename(parquet_file)\n",
    "\n",
    "    cursor.execute(\"CREATE STAGE IF NOT EXISTS stage_stock_prices_single_load\")\n",
    "    cursor.execute(F\"PUT file://{absolute_path} @stage_stock_prices_single_load OVERWRITE=True\")\n",
    "\n",
    "    cursor.execute(f\"\"\"\n",
    "        COPY INTO stock_prices_single_load\n",
    "        FROM @stage_stock_prices_single_load/{basename}\n",
    "        FILE_FORMAT = (TYPE = 'PARQUET')\n",
    "        MATCH_BY_COLUMN_NAME=CASE_INSENSITIVE\n",
    "        \"\"\")\n",
    "    \n",
    "    print(\"All data loaded successfully.\")\n",
    "    \n",
    "    # cursor.close()\n",
    "    # conn.close()"
   ]
  },
  {
   "cell_type": "code",
   "execution_count": 6,
   "id": "bf215b5e-3964-4024-9f5d-ee3ab4af41e6",
   "metadata": {},
   "outputs": [],
   "source": [
    "# # Truncate Table First.\n",
    "# cursor.execute(\"Truncate table stock_prices\")\n",
    "\n",
    "# # saving dataframe to parquet file\n",
    "# parquet_file = 'temp_df_all_stocks_data.parquet'\n",
    "# df_all_stocks_data.to_parquet(parquet_file, index=False, engine='pyarrow')\n",
    "\n",
    "# df_all_stocks_data['price_date'] = df_all_stocks_data['price_date'].astype(str)\n",
    "\n",
    "# # absolute_path = os.path.abspath(parquet_file)\n",
    "# absolute_path = \"D://Data_Engineering//temp_df_all_stocks_data.parquet\"\n",
    "# basename = os.path.basename(parquet_file)\n",
    "\n",
    "# cursor.execute(\"CREATE STAGE IF NOT EXISTS stage_stock_prices\")\n",
    "# cursor.execute(F\"PUT file://{absolute_path} @stage_stock_prices OVERWRITE=True\")\n",
    "\n",
    "# cursor.execute(f\"\"\"\n",
    "#     COPY INTO stock_prices\n",
    "#     FROM @stage_stock_prices/{basename}\n",
    "#     FILE_FORMAT = (TYPE = 'PARQUET')\n",
    "#     MATCH_BY_COLUMN_NAME=CASE_INSENSITIVE\n",
    "#     \"\"\")\n",
    "\n",
    "# print(\"All data loaded successfully.\")\n",
    "\n",
    "# # cursor.close()\n",
    "# # conn.close()"
   ]
  },
  {
   "cell_type": "code",
   "execution_count": null,
   "id": "c1970fef-5892-4ceb-a5d9-03a111c4bb41",
   "metadata": {},
   "outputs": [],
   "source": []
  },
  {
   "cell_type": "code",
   "execution_count": null,
   "id": "d12cc350-eab1-4080-81a4-0a851f07bede",
   "metadata": {},
   "outputs": [],
   "source": []
  },
  {
   "cell_type": "code",
   "execution_count": null,
   "id": "70a43888-3500-4f37-b097-a98d96220fc5",
   "metadata": {},
   "outputs": [],
   "source": []
  },
  {
   "cell_type": "code",
   "execution_count": null,
   "id": "6d42a3dc-208f-49b7-9289-59ece0fb48e9",
   "metadata": {},
   "outputs": [],
   "source": []
  },
  {
   "cell_type": "code",
   "execution_count": null,
   "id": "1887fbb1-150e-46db-8012-68749caba833",
   "metadata": {},
   "outputs": [],
   "source": []
  },
  {
   "cell_type": "code",
   "execution_count": null,
   "id": "e4f4e2f5-644f-4cc9-8097-2436b397b5c9",
   "metadata": {},
   "outputs": [],
   "source": []
  },
  {
   "cell_type": "code",
   "execution_count": null,
   "id": "51aadab4-4816-465b-936f-a7fc59d387b1",
   "metadata": {},
   "outputs": [],
   "source": []
  },
  {
   "cell_type": "code",
   "execution_count": null,
   "id": "23ad7775-7736-4d28-8e9e-e6b5833cd59e",
   "metadata": {},
   "outputs": [],
   "source": []
  },
  {
   "cell_type": "code",
   "execution_count": null,
   "id": "14f6258d-1b51-44f6-801f-e6be81890aea",
   "metadata": {},
   "outputs": [],
   "source": []
  },
  {
   "cell_type": "code",
   "execution_count": null,
   "id": "fed1b0a9-c2cf-4e22-abc2-fb657233cccc",
   "metadata": {},
   "outputs": [],
   "source": []
  },
  {
   "cell_type": "code",
   "execution_count": null,
   "id": "fbe2439d-ba59-4e9b-bad2-ff7fb58561dd",
   "metadata": {},
   "outputs": [],
   "source": []
  },
  {
   "cell_type": "code",
   "execution_count": null,
   "id": "632ebb19-9c56-4f04-9293-3c63f44ce699",
   "metadata": {},
   "outputs": [],
   "source": []
  },
  {
   "cell_type": "code",
   "execution_count": null,
   "id": "b8211ed3-4ad6-4671-8707-9a3e1a8f4aa8",
   "metadata": {},
   "outputs": [],
   "source": []
  }
 ],
 "metadata": {
  "kernelspec": {
   "display_name": "Python 3 (ipykernel)",
   "language": "python",
   "name": "python3"
  },
  "language_info": {
   "codemirror_mode": {
    "name": "ipython",
    "version": 3
   },
   "file_extension": ".py",
   "mimetype": "text/x-python",
   "name": "python",
   "nbconvert_exporter": "python",
   "pygments_lexer": "ipython3",
   "version": "3.13.1"
  }
 },
 "nbformat": 4,
 "nbformat_minor": 5
}
